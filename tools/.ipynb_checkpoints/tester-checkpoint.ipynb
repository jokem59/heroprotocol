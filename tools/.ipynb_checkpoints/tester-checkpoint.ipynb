{
 "cells": [
  {
   "cell_type": "code",
   "execution_count": 35,
   "metadata": {
    "collapsed": false
   },
   "outputs": [
    {
     "name": "stdout",
     "output_type": "stream",
     "text": [
      "Checking ../testData/AI/ for consistency...\n",
      "../testData/AI/ passed test!\n",
      "\n",
      "Checking ../testData/Custom/ for consistency...\n",
      "../testData/Custom/ passed test!\n",
      "\n",
      "Checking ../testData/HL/ for consistency...\n",
      "../testData/HL/ passed test!\n",
      "\n",
      "Checking ../testData/QM/ for consistency...\n",
      "../testData/QM/ passed test!\n",
      "\n",
      "Checking ../testData/TL/ for consistency...\n",
      "../testData/TL/ passed test!\n",
      "\n",
      "Checking ../testData/UD/ for consistency...\n",
      "../testData/UD/ passed test!\n",
      "\n"
     ]
    }
   ],
   "source": [
    "#!/usr/bin/python\n",
    "\n",
    "import formatter as fmt\n",
    "import os\n",
    "import pandas as pd\n",
    "\n",
    "directories = [x[0] for x in os.walk('../testData/')]\n",
    "del directories[0]\n",
    "directories\n",
    "\n",
    "for path in directories:\n",
    "    path += '/'\n",
    "    print \"Checking\", path, \"for consistency...\"\n",
    "    dictInitData, replayId = fmt.generateInitialData(path)\n",
    "    dfSummary = fmt.generateSummary(path, dictInitData, replayId)\n",
    "    dfTruth = pd.read_csv(path + 'truth.csv', index_col = 0)\n",
    "    a = len(dfSummary.columns)\n",
    "    b = len(dfTruth.columns)\n",
    "    if a != b:\n",
    "        print path, 'Does NOT have equal columns - examine data.'\n",
    "    else:\n",
    "        print path, \"passed test!\\n\""
   ]
  }
 ],
 "metadata": {
  "anaconda-cloud": {},
  "kernelspec": {
   "display_name": "Python [Root]",
   "language": "python",
   "name": "Python [Root]"
  },
  "language_info": {
   "codemirror_mode": {
    "name": "ipython",
    "version": 2
   },
   "file_extension": ".py",
   "mimetype": "text/x-python",
   "name": "python",
   "nbconvert_exporter": "python",
   "pygments_lexer": "ipython2",
   "version": "2.7.12"
  }
 },
 "nbformat": 4,
 "nbformat_minor": 0
}
