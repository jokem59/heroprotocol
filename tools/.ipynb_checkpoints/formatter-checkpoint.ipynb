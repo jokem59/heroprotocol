{
 "cells": [
  {
   "cell_type": "code",
   "execution_count": 50,
   "metadata": {
    "collapsed": false
   },
   "outputs": [],
   "source": [
    "import json\n",
    "import ast\n",
    "import os\n",
    "\n",
    "def createJsonTrackerGameEvents(parserOutput, jsonFileName, replayId):\n",
    "    '''\n",
    "    Converts raw heroprotocol outputs --trackerevents, --gameevents to a specified JSON file while adding\n",
    "    the unique replayID to the file.\n",
    "    '''    \n",
    "    with open(parserOutput, 'r') as f:\n",
    "        lines = f.readlines()\n",
    "\n",
    "    temp_string = ''\n",
    "    for i in range(len(lines)):\n",
    "        line = lines[i]\n",
    "        if i == 0:\n",
    "            temp_string += \"{'\" + parserOutput + \"': [\" + line.rstrip()\n",
    "            continue\n",
    "        try:\n",
    "            if lines[i + 1][0] == '{':\n",
    "                line = line.rstrip()\n",
    "                temp_string += line + ','\n",
    "                continue\n",
    "        except:\n",
    "            pass\n",
    "        temp_string += line.rstrip()\n",
    "\n",
    "    temp_string += \"]}\"\n",
    "    dictTrackerEvents = ast.literal_eval(temp_string)\n",
    "    dictTrackerEvents['replayId'] = replayId\n",
    "    \n",
    "    with open(jsonFileName, 'w') as f:\n",
    "        json.dump(dictTrackerEvents, f)\n",
    "        \n",
    "def createJsonInitData(initData, jsonFileName, replayId):\n",
    "    '''\n",
    "    Converts the raw out of heroprotocol --initdata to a <dictionary> for JSON conversion.\n",
    "    Takes string input of path + filename\n",
    "    '''\n",
    "    with open(initData, 'r') as f:\n",
    "        lines = f.readlines()\n",
    "    with open(initData, 'w') as f:\n",
    "        dict_start = False\n",
    "        for line in lines:\n",
    "            if line[0] == '{' or dict_start:\n",
    "                dict_start = True\n",
    "                f.write(line)\n",
    "            continue\n",
    "    with open(initData, 'r') as f:\n",
    "        dictInitData = ast.literal_eval(f.read())\n",
    "    \n",
    "    # Removes cahche handles; no value in data analysis and certain characters cause UTF-8 encoding \n",
    "    # error when converting to JSON\n",
    "    dictInitData['m_syncLobbyState']['m_gameDescription']['m_cacheHandles'] = []\n",
    "    dictInitData['m_syncLobbyState']['replayId'] = replayId\n",
    "    \n",
    "    with open(jsonFileName, 'w') as f:\n",
    "        json.dump(dictInitData, f)\n",
    "        \n",
    "createJsonTrackerGameEvents('game_events', 'game_eventsJson.txt', 435234523452)"
   ]
  },
  {
   "cell_type": "code",
   "execution_count": 47,
   "metadata": {
    "collapsed": false
   },
   "outputs": [],
   "source": [
    "os.chdir('/Users/JoeK/heroprotocol/tools')"
   ]
  },
  {
   "cell_type": "code",
   "execution_count": null,
   "metadata": {
    "collapsed": true
   },
   "outputs": [],
   "source": []
  }
 ],
 "metadata": {
  "anaconda-cloud": {},
  "kernelspec": {
   "display_name": "Python [Root]",
   "language": "python",
   "name": "Python [Root]"
  },
  "language_info": {
   "codemirror_mode": {
    "name": "ipython",
    "version": 2
   },
   "file_extension": ".py",
   "mimetype": "text/x-python",
   "name": "python",
   "nbconvert_exporter": "python",
   "pygments_lexer": "ipython2",
   "version": "2.7.12"
  }
 },
 "nbformat": 4,
 "nbformat_minor": 0
}
